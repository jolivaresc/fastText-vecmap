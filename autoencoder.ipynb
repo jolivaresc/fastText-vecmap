{
 "cells": [
  {
   "cell_type": "code",
   "execution_count": 1,
   "metadata": {
    "colab": {
     "autoexec": {
      "startup": false,
      "wait_interval": 0
     },
     "base_uri": "https://localhost:8080/",
     "height": 51,
     "output_extras": [
      {
       "item_id": 2
      }
     ]
    },
    "colab_type": "code",
    "executionInfo": {
     "elapsed": 8003,
     "status": "ok",
     "timestamp": 1521678653740,
     "user": {
      "displayName": "José Luis Olivares Castillo",
      "photoUrl": "//lh3.googleusercontent.com/-TwmKeyobW8Q/AAAAAAAAAAI/AAAAAAAABMI/wWTS79noj8g/s50-c-k-no/photo.jpg",
      "userId": "111813722129821074214"
     },
     "user_tz": 360
    },
    "id": "BnmksSKy__P5",
    "outputId": "d2e65e66-9f70-46bc-bad1-d745324e47c1"
   },
   "outputs": [
    {
     "name": "stderr",
     "output_type": "stream",
     "text": [
      "/home/olivares/anaconda3/lib/python3.6/site-packages/h5py/__init__.py:34: FutureWarning: Conversion of the second argument of issubdtype from `float` to `np.floating` is deprecated. In future, it will be treated as `np.float64 == np.dtype(float).type`.\n",
      "  from ._conv import register_converters as _register_converters\n"
     ]
    },
    {
     "name": "stdout",
     "output_type": "stream",
     "text": [
      "TensorFlow 1.7.0\n"
     ]
    }
   ],
   "source": [
    "import tensorflow as tf\n",
    "import pandas as pd\n",
    "import numpy as np\n",
    "import utils\n",
    "\n",
    "__author__ = \"Olivares Castillo José Luis\"\n",
    "\n",
    "print(\"TensorFlow\",tf.VERSION)\n",
    "if tf.test.gpu_device_name():\n",
    "  print(\"GPU disponible\")\n",
    "\n",
    "tf.logging.set_verbosity(tf.logging.INFO)\n",
    "tf.enable_eager_execution()"
   ]
  },
  {
   "cell_type": "code",
   "execution_count": 2,
   "metadata": {},
   "outputs": [],
   "source": [
    "source_file = open(\"datasets/en-it/en.crawl.embeddings.300d.5k.train\")\n",
    "src_words,src_matrix = utils.read(source_file,is_zipped=False)"
   ]
  },
  {
   "cell_type": "code",
   "execution_count": 3,
   "metadata": {},
   "outputs": [],
   "source": [
    "target_file = open(\"datasets/en-it/it.embeddings.300d.5k.train\")\n",
    "trg_words,trg_matrix = utils.read(target_file,is_zipped=False)"
   ]
  },
  {
   "cell_type": "code",
   "execution_count": 4,
   "metadata": {},
   "outputs": [
    {
     "data": {
      "text/plain": [
       "((5000, 300), (5000, 300), numpy.float32)"
      ]
     },
     "execution_count": 4,
     "metadata": {},
     "output_type": "execute_result"
    }
   ],
   "source": [
    "trg_matrix.shape,src_matrix.shape,src_matrix.dtype.type"
   ]
  },
  {
   "cell_type": "code",
   "execution_count": 5,
   "metadata": {
    "colab": {
     "autoexec": {
      "startup": false,
      "wait_interval": 0
     }
    },
    "colab_type": "code",
    "id": "Nu0-46UVs0l1"
   },
   "outputs": [],
   "source": [
    "def next_batch(x,y, step, batch_size):\n",
    "    return x[batch_size * step:batch_size * step + batch_size],y[batch_size * step:batch_size * step + batch_size]"
   ]
  },
  {
   "cell_type": "markdown",
   "metadata": {
    "colab_type": "text",
    "id": "DP4GsSnpNr9s"
   },
   "source": [
    "https://ikhlestov.github.io/posts/rbm-based-autoencoders-with-tensorflow/\n",
    "https://gist.github.com/blackecho/db85fab069bd2d6fb3e7"
   ]
  },
  {
   "cell_type": "code",
   "execution_count": 12,
   "metadata": {},
   "outputs": [],
   "source": [
    "tf.reset_default_graph()\n",
    "tf.set_random_seed(42)\n",
    "tf.logging.set_verbosity(tf.logging.INFO)\n",
    "\n",
    "LEARNING_RATE = 1\n",
    "EPOCHS = 15000\n",
    "# Dimensión de vectores de entrada (número de neuronas en capa de entrada).\n",
    "NODES_INPUT = src_matrix.shape[1]\n",
    "\n",
    "# Número de neuronas en capas ocultas.\n",
    "NODES_H1 = 270\n",
    "NODES_H2 = 360\n",
    "\n",
    "# Dimensión de vectores de salida (número de neuronas en capa de salida).\n",
    "NODES_OUTPUT = trg_matrix.shape[1]\n",
    "\n",
    "#https://www.tensorflow.org/programmers_guide/eager#build_a_model\n",
    "model = tf.keras.Sequential([\n",
    "    tf.keras.layers.Dense(units=NODES_H1,\n",
    "                         input_shape=(NODES_INPUT,),\n",
    "                         activation=tf.nn.elu,\n",
    "                         kernel_initializer=tf.contrib.layers.xavier_initializer(),\n",
    "                         use_bias=True,\n",
    "                         bias_initializer=tf.keras.initializers.Zeros()),\n",
    "    tf.keras.layers.Dense(units=NODES_H1,\n",
    "                         activation=tf.nn.tanh,\n",
    "                         kernel_initializer=tf.contrib.layers.xavier_initializer(),\n",
    "                         use_bias=True,\n",
    "                         bias_initializer=tf.keras.initializers.Zeros()),\n",
    "    \n",
    "])\n",
    "\n",
    "h1 = tf.keras.layers.Dense(\n",
    "    units=NODES_H1,\n",
    "    activation=tf.nn.elu,\n",
    "    kernel_initializer=tf.contrib.layers.xavier_initializer(),\n",
    "    use_bias=True,\n",
    "    bias_initializer=tf.zeros_initializer()\n",
    ")\n",
    "\n",
    "output=tf.keras.layers.Dense(\n",
    "    units=NODES_OUTPUT,\n",
    "    activation=tf.nn.tanh,\n",
    "    kernel_initializer=tf.contrib.layers.xavier_initializer(),\n",
    "    use_bias=True,\n",
    "    bias_initializer=tf.zeros_initializer()\n",
    ")"
   ]
  },
  {
   "cell_type": "markdown",
   "metadata": {
    "colab_type": "text",
    "id": "cvOvkhPxSeA1"
   },
   "source": [
    "# Entrenamiento"
   ]
  },
  {
   "cell_type": "code",
   "execution_count": null,
   "metadata": {
    "colab": {
     "autoexec": {
      "startup": false,
      "wait_interval": 0
     },
     "base_uri": "https://localhost:8080/",
     "height": 663,
     "output_extras": [
      {
       "item_id": 32
      }
     ]
    },
    "colab_type": "code",
    "executionInfo": {
     "elapsed": 537924,
     "status": "ok",
     "timestamp": 1521698075191,
     "user": {
      "displayName": "José Luis Olivares Castillo",
      "photoUrl": "//lh3.googleusercontent.com/-TwmKeyobW8Q/AAAAAAAAAAI/AAAAAAAABMI/wWTS79noj8g/s50-c-k-no/photo.jpg",
      "userId": "111813722129821074214"
     },
     "user_tz": 360
    },
    "id": "xnDpufmaSlAw",
    "outputId": "2e7e0b11-2591-44e9-dc79-10b45e2b16fe"
   },
   "outputs": [],
   "source": [
    "%%time\n",
    "tf.reset_default_graph()\n",
    "tf.set_random_seed(42)\n",
    "print(\"TensorFlow v{}\".format(tf.__version__))\n",
    "print(tf.test.gpu_device_name())\n",
    "\n",
    "LEARNING_RATE = 1\n",
    "EPOCHS = 15000\n",
    "# Dimensión de vectores de entrada (número de neuronas en capa de entrada).\n",
    "NODES_INPUT = source_vectores.shape[1]\n",
    "\n",
    "# Número de neuronas en capas ocultas.\n",
    "NODES_H1 = 270   #70 - 20 - 15\n",
    "NODES_H2 = 360  # 42 - 20\n",
    "NODES_H3 = 360  # 42 - 20\n",
    "NODES_H4 = 110  # 42 - 20\n",
    "NODES_H5 = 950\n",
    "\n",
    "# Dimensión de vectores de salida (número de neuronas en capa de salida).\n",
    "NODES_OUTPUT = target_vectores.shape[1]\n",
    "\n",
    "DROP = 1\n",
    "\n",
    "model = \"model2250\"\n",
    "\n",
    "\n",
    "with tf.name_scope('input'):\n",
    "    X = tf.placeholder(shape=[None, NODES_INPUT],dtype=tf.float64, name='input_es')\n",
    "    y = tf.placeholder(shape=[None, NODES_OUTPUT],dtype=tf.float64, name='target_na')\n",
    "\n",
    "\n",
    "kprob = tf.placeholder(tf.float64,name='dropout_prob')\n",
    "\n",
    "\n",
    "def activation_function(layer, act, name, alpha=tf.constant(0.001, dtype=tf.float64)):\n",
    "    if act.__eq__(\"leaky_relu\"):\n",
    "        return tf.nn.leaky_relu(layer, alpha, name=name)\n",
    "    elif act.__eq__(\"softmax\"):\n",
    "        return tf.nn.softmax(layer, name=name)\n",
    "    elif act.__eq__(\"sigmoid\"):\n",
    "        return tf.nn.sigmoid(layer, name=name)\n",
    "    elif act.__eq__(\"tanh\"):\n",
    "        return tf.nn.tanh(layer, name=name)\n",
    "    elif act.__eq__(\"elu\"):\n",
    "        return tf.nn.elu(layer,name=name)\n",
    "    elif act.__eq__(\"selu\"):\n",
    "        return tf.nn.selu(layer,name=name)\n",
    "    return tf.nn.relu(layer, name=name)\n",
    "\n",
    "\n",
    "# Se definen las capas.\n",
    "w1 = tf.get_variable(name=\"W1\", dtype=tf.float64,\n",
    "                                shape=[NODES_INPUT, NODES_H1],\n",
    "                                initializer=tf.truncated_normal_initializer(stddev=0.1,seed=41),\n",
    "                                #initializer=W1_,\n",
    "                                use_resource=True,\n",
    "                                regularizer = tf.contrib.layers.l2_regularizer(scale=0.1)\n",
    "                    )\n",
    "b1 = tf.Variable(tf.zeros(shape=[NODES_H1], dtype=tf.float64), name=\"b1\")\n",
    "fc1 = activation_function(tf.nn.xw_plus_b(X,w1,b1), \"tanh\", \"fc1\")\n",
    "fc1 = tf.nn.dropout(fc1,kprob,seed=42)\n",
    "\n",
    "\n",
    "w2 = tf.get_variable(name=\"W2\", dtype=tf.float64,\n",
    "                                shape=[NODES_H1, NODES_OUTPUT],\n",
    "                                initializer=tf.truncated_normal_initializer(stddev=0.1,seed=42),\n",
    "                                #initializer=W3_,\n",
    "                                use_resource=True,\n",
    "                                regularizer = tf.contrib.layers.l2_regularizer(scale=0.1)\n",
    "                    )\n",
    "b2 = tf.Variable(tf.zeros(shape=[NODES_OUTPUT], dtype=tf.float64), name=\"b2\")\n",
    "\n",
    "nah_predicted = activation_function(tf.nn.xw_plus_b(fc1,w2,b2),\"tanh\",\"nah_predicted\")\n",
    "\n",
    "\n",
    "\n",
    "# Función de error\n",
    "loss = tf.reduce_mean(tf.squared_difference(nah_predicted, y), name=\"loss\")\n",
    "\n",
    "\n",
    "tf.summary.scalar(\"loss\", loss)\n",
    "\n",
    "\n",
    "# backprop\n",
    "optimiser = tf.train.AdagradOptimizer(learning_rate=LEARNING_RATE)\n",
    "\n",
    "\n",
    "# Compute gradients\n",
    "gradients, variables = zip(*optimiser.compute_gradients(loss))\n",
    "\n",
    "gradients, _ = tf.clip_by_global_norm(gradients, 5.0)\n",
    "\n",
    "# Apply processed gradients to optimizer.\n",
    "train_op = optimiser.apply_gradients(zip(gradients, variables))\n",
    "\n",
    "\n",
    "# Accuracy \n",
    "with tf.name_scope('accuracy'):\n",
    "    with tf.name_scope('correct_prediction'):\n",
    "        # Se compara salida de la red neuronal con el vector objetivo.\n",
    "        correct_prediction = tf.equal(tf.argmax(nah_predicted, 1), tf.argmax(y, 1))\n",
    "    with tf.name_scope('accuracy'):\n",
    "        # Se calcula la precisión.\n",
    "        accuracy = tf.reduce_mean(tf.cast(correct_prediction, tf.float64))\n",
    "    tf.summary.scalar('accuracy', accuracy)\n",
    "\n",
    "\n",
    "LOGPATH = \"logs/model\"\n",
    "print(\"logpath:\", LOGPATH)\n",
    "\n",
    "\n",
    "# Se crea la sesión\n",
    "config = tf.ConfigProto(log_device_placement=True)\n",
    "sess =  tf.Session(config=config)\n",
    "\n",
    "# Se ponen los histogramas y valores de las gráficas en una sola variable.\n",
    "summaryMerged = tf.summary.merge_all()\n",
    "\n",
    "# Escribir a disco el grafo generado y las gráficas para visualizar en TensorBoard.\n",
    "writer = tf.summary.FileWriter(LOGPATH, sess.graph)\n",
    "\n",
    "# Se inicializan los valores de los tensores.\n",
    "init = tf.global_variables_initializer()\n",
    "\n",
    "# Add ops to save and restore all the variables.\n",
    "saver = tf.train.Saver()\n",
    "\n",
    "# Ejecutando sesión\n",
    "sess.run(init)\n",
    "\n",
    "\n",
    "for j in range(EPOCHS):\n",
    "    \n",
    "    for i in range(0,5):\n",
    "      source_batch, target_batch = next_batch(source_vectores,target_vectores, i, 1000)\n",
    "      _loss, _, sumOut = sess.run([loss, train_op, summaryMerged],\n",
    "                                feed_dict={X: source_batch, y: target_batch,kprob:DROP})\n",
    "      \n",
    "\n",
    "    writer.add_summary(sumOut, j)\n",
    "    \n",
    "    if (j % 500) == 0:\n",
    "      #train_accuracy = accuracy.eval(session=sess, feed_dict={X: tsource_vectores, y: ttarget_vectores,kprob:1})\n",
    "      print(\"Epoch:\", j, \"/\", EPOCHS, \"\\tLoss:\",_loss)#,\"\\tAccuracy:\", train_accuracy)\n",
    "        \n",
    "        \n",
    "        \n",
    "\n",
    "SAVE_PATH = \"./\"+model+\".ckpt\"\n",
    "print(\"save path\",SAVE_PATH)\n",
    "save_model = saver.save(sess, SAVE_PATH)\n",
    "print(\"Model saved in file: %s\", SAVE_PATH)\n",
    "writer.close()"
   ]
  },
  {
   "cell_type": "markdown",
   "metadata": {
    "colab_type": "text",
    "id": "lQzo32LcSrap"
   },
   "source": [
    "# Descargar modelo generado"
   ]
  },
  {
   "cell_type": "code",
   "execution_count": null,
   "metadata": {
    "colab": {
     "autoexec": {
      "startup": false,
      "wait_interval": 0
     }
    },
    "colab_type": "code",
    "id": "aljwsHu_Sy5H"
   },
   "outputs": [],
   "source": [
    "files.download(\"/content/checkpoint\")"
   ]
  },
  {
   "cell_type": "code",
   "execution_count": null,
   "metadata": {
    "colab": {
     "autoexec": {
      "startup": false,
      "wait_interval": 0
     }
    },
    "colab_type": "code",
    "id": "Z-NFAordS3bX"
   },
   "outputs": [],
   "source": [
    "files.download(\"/content/\"+model+\".ckpt.meta\")"
   ]
  },
  {
   "cell_type": "code",
   "execution_count": null,
   "metadata": {
    "colab": {
     "autoexec": {
      "startup": false,
      "wait_interval": 0
     }
    },
    "colab_type": "code",
    "id": "3BYVQSevS2Mz"
   },
   "outputs": [],
   "source": [
    "files.download(\"/content/\"+model+\".ckpt.index\")"
   ]
  },
  {
   "cell_type": "code",
   "execution_count": null,
   "metadata": {
    "colab": {
     "autoexec": {
      "startup": false,
      "wait_interval": 0
     }
    },
    "colab_type": "code",
    "id": "p6eFKjMjS1PE"
   },
   "outputs": [],
   "source": [
    "files.download(\"/content/\"+model+\".ckpt.data-00000-of-00001\")"
   ]
  },
  {
   "cell_type": "code",
   "execution_count": null,
   "metadata": {
    "cellView": "code",
    "colab": {
     "autoexec": {
      "startup": false,
      "wait_interval": 0
     }
    },
    "colab_type": "code",
    "id": "3rcNwAEftSoJ"
   },
   "outputs": [],
   "source": [
    "! rm -rf logs/model"
   ]
  },
  {
   "cell_type": "code",
   "execution_count": null,
   "metadata": {
    "colab": {
     "autoexec": {
      "startup": false,
      "wait_interval": 0
     }
    },
    "colab_type": "code",
    "id": "YQUNJjsailZ4"
   },
   "outputs": [],
   "source": []
  }
 ],
 "metadata": {
  "accelerator": "GPU",
  "colab": {
   "collapsed_sections": [],
   "default_view": {},
   "name": "autoencoder.ipynb",
   "provenance": [],
   "version": "0.3.2",
   "views": {}
  },
  "kernelspec": {
   "display_name": "Python 3",
   "language": "python",
   "name": "python3"
  },
  "language_info": {
   "codemirror_mode": {
    "name": "ipython",
    "version": 3
   },
   "file_extension": ".py",
   "mimetype": "text/x-python",
   "name": "python",
   "nbconvert_exporter": "python",
   "pygments_lexer": "ipython3",
   "version": "3.6.3"
  }
 },
 "nbformat": 4,
 "nbformat_minor": 2
}
