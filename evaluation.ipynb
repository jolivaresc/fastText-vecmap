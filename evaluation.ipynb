{
 "cells": [
  {
   "cell_type": "code",
   "execution_count": 1,
   "metadata": {},
   "outputs": [
    {
     "name": "stderr",
     "output_type": "stream",
     "text": [
      "/home/olivares/anaconda3/lib/python3.6/site-packages/h5py/__init__.py:34: FutureWarning: Conversion of the second argument of issubdtype from `float` to `np.floating` is deprecated. In future, it will be treated as `np.float64 == np.dtype(float).type`.\n",
      "  from ._conv import register_converters as _register_converters\n"
     ]
    },
    {
     "name": "stdout",
     "output_type": "stream",
     "text": [
      "TensorFlow 1.7.0\n"
     ]
    }
   ],
   "source": [
    "import tensorflow as tf\n",
    "import numpy as np\n",
    "import utils\n",
    "\n",
    "__author__=\"Olivares Castillo José Luis\"\n",
    "\n",
    "print(\"TensorFlow\",tf.VERSION)\n",
    "if tf.test.gpu_device_name():\n",
    "    print(\"GPU disponible\")\n",
    "\n",
    "tf.logging.set_verbosity(tf.logging.INFO)"
   ]
  },
  {
   "cell_type": "code",
   "execution_count": 2,
   "metadata": {},
   "outputs": [],
   "source": [
    "src_lex, trg_lex = utils.get_lexicon(\"en-it.test\")"
   ]
  },
  {
   "cell_type": "code",
   "execution_count": 3,
   "metadata": {},
   "outputs": [
    {
     "data": {
      "text/plain": [
       "(1500, 1849)"
      ]
     },
     "execution_count": 3,
     "metadata": {},
     "output_type": "execute_result"
    }
   ],
   "source": [
    "len(set(src_lex)), len(set(trg_lex))"
   ]
  },
  {
   "cell_type": "code",
   "execution_count": 4,
   "metadata": {},
   "outputs": [],
   "source": [
    "src_matrix = utils.open_file(\"en-crawl\")\n",
    "words_src, source_vec = utils.read(src_matrix)"
   ]
  },
  {
   "cell_type": "code",
   "execution_count": 5,
   "metadata": {},
   "outputs": [
    {
     "data": {
      "text/plain": [
       "2000000"
      ]
     },
     "execution_count": 5,
     "metadata": {},
     "output_type": "execute_result"
    }
   ],
   "source": [
    "len(words_src)"
   ]
  },
  {
   "cell_type": "code",
   "execution_count": 10,
   "metadata": {},
   "outputs": [
    {
     "name": "stdout",
     "output_type": "stream",
     "text": [
      "ecevit\n",
      "jaruzelski\n",
      "tamayo\n",
      "ekaterinburg\n",
      "ogoni\n",
      "hélène\n",
      "einaudi\n",
      "bavarians\n",
      "méndez\n",
      "fyrom\n",
      "allawi\n",
      "sète\n",
      "inés\n",
      "gbagbo\n",
      "raynal\n",
      "jaurès\n",
      "véronique\n",
      "heysel\n",
      "valenciennes\n",
      "kouchner\n",
      "bogotá\n",
      "michelis\n",
      "antonello\n",
      "daghestan\n",
      "rosati\n",
      "unclos\n",
      "mossadeq\n",
      "clarín\n",
      "walesa\n",
      "isfahan\n",
      "vukovar\n",
      "igad\n",
      "antioquia\n",
      "ngawang\n",
      "izetbegovic\n",
      "tegucigalpa\n",
      "chandrika\n",
      "unrwa\n",
      "tindouf\n",
      "cpmp\n",
      "bouteflika\n",
      "togolese\n",
      "kumaratunga\n",
      "rafah\n",
      "fassa\n",
      "radovan\n",
      "lindh\n",
      "rovaniemi\n",
      "romanies\n",
      "andreotti\n",
      "ravalomanana\n",
      "nazarbayev\n",
      "brueghel\n",
      "guterres\n",
      "ingushetia\n",
      "nlg\n",
      "tornio\n",
      "schreyer\n",
      "jiabao\n",
      "lyudmila\n",
      "prizren\n",
      "kfor\n",
      "ratko\n",
      "katyn\n",
      "eeurope\n",
      "wilfredo\n",
      "gaborone\n",
      "papadopoulos\n",
      "lahoud\n",
      "kostunica\n",
      "pilger\n",
      "vélez\n",
      "kursk\n",
      "jörg\n",
      "ncbs\n",
      "sudeten\n",
      "malpensa\n",
      "kabylie\n",
      "suharto\n",
      "unodc\n",
      "megawati\n",
      "agusta\n",
      "saakashvili\n",
      "scowcroft\n",
      "michèle\n",
      "sorbonne\n",
      "bassam\n",
      "atocha\n",
      "beckenbauer\n",
      "thüringen\n",
      "elmar\n",
      "idriss\n",
      "beazley\n",
      "vercelli\n",
      "bessarabia\n",
      "hristo\n",
      "rehn\n",
      "karamanlis\n",
      "caretta\n",
      "lumumba\n",
      "matera\n",
      "genk\n",
      "ceausescu\n",
      "macra\n",
      "interreg\n",
      "gaullists\n",
      "yalta\n",
      "euskadi\n",
      "billingham\n",
      "nanterre\n",
      "mendieta\n",
      "núñez\n",
      "csps\n",
      "113\n"
     ]
    }
   ],
   "source": [
    "tm = list(set(src_lex))\n",
    "s=0\n",
    "for i in tm:\n",
    "    if i not in words_src:\n",
    "        print(i)\n",
    "        s+=1\n",
    "print(s)"
   ]
  },
  {
   "cell_type": "code",
   "execution_count": 13,
   "metadata": {},
   "outputs": [
    {
     "data": {
      "text/plain": [
       "False"
      ]
     },
     "execution_count": 13,
     "metadata": {},
     "output_type": "execute_result"
    }
   ],
   "source": [
    "\"tegucigalpa\" in words_src"
   ]
  }
 ],
 "metadata": {
  "kernelspec": {
   "display_name": "Python 3",
   "language": "python",
   "name": "python3"
  },
  "language_info": {
   "codemirror_mode": {
    "name": "ipython",
    "version": 3
   },
   "file_extension": ".py",
   "mimetype": "text/x-python",
   "name": "python",
   "nbconvert_exporter": "python",
   "pygments_lexer": "ipython3",
   "version": "3.6.3"
  }
 },
 "nbformat": 4,
 "nbformat_minor": 2
}
