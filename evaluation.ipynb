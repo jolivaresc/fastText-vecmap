{
 "cells": [
  {
   "cell_type": "code",
   "execution_count": 1,
   "metadata": {},
   "outputs": [
    {
     "name": "stderr",
     "output_type": "stream",
     "text": [
      "/home/olivares/anaconda3/lib/python3.6/site-packages/h5py/__init__.py:34: FutureWarning: Conversion of the second argument of issubdtype from `float` to `np.floating` is deprecated. In future, it will be treated as `np.float64 == np.dtype(float).type`.\n",
      "  from ._conv import register_converters as _register_converters\n"
     ]
    },
    {
     "name": "stdout",
     "output_type": "stream",
     "text": [
      "TensorFlow 1.7.0\n"
     ]
    }
   ],
   "source": [
    "import tensorflow as tf\n",
    "import numpy as np\n",
    "import utils\n",
    "\n",
    "__author__=\"Olivares Castillo José Luis\"\n",
    "\n",
    "print(\"TensorFlow\",tf.VERSION)\n",
    "if tf.test.gpu_device_name():\n",
    "    print(\"GPU disponible\")\n",
    "\n",
    "tf.logging.set_verbosity(tf.logging.INFO)"
   ]
  },
  {
   "cell_type": "code",
   "execution_count": 2,
   "metadata": {},
   "outputs": [],
   "source": [
    "src_lex, trg_lex = utils.get_lexicon(\"en-it.test\")"
   ]
  },
  {
   "cell_type": "code",
   "execution_count": 3,
   "metadata": {},
   "outputs": [
    {
     "data": {
      "text/plain": [
       "(1500, 1849)"
      ]
     },
     "execution_count": 3,
     "metadata": {},
     "output_type": "execute_result"
    }
   ],
   "source": [
    "len(set(src_lex)), len(set(trg_lex))"
   ]
  },
  {
   "cell_type": "code",
   "execution_count": 4,
   "metadata": {},
   "outputs": [],
   "source": [
    "src_matrix = utils.open_file(\"en-crawl\")"
   ]
  },
  {
   "cell_type": "code",
   "execution_count": 5,
   "metadata": {},
   "outputs": [],
   "source": [
    "words_src, source_vec = utils.read(src_matrix,vocabulary=src_lex)"
   ]
  },
  {
   "cell_type": "code",
   "execution_count": 6,
   "metadata": {},
   "outputs": [
    {
     "data": {
      "text/plain": [
       "1387"
      ]
     },
     "execution_count": 6,
     "metadata": {},
     "output_type": "execute_result"
    }
   ],
   "source": [
    "len(words_src)"
   ]
  },
  {
   "cell_type": "code",
   "execution_count": 7,
   "metadata": {},
   "outputs": [
    {
     "name": "stdout",
     "output_type": "stream",
     "text": [
      "suharto\n",
      "bogotá\n",
      "bogotá\n",
      "sorbonne\n",
      "billingham\n",
      "walesa\n",
      "nazarbayev\n",
      "papadopoulos\n",
      "antioquia\n",
      "togolese\n",
      "togolese\n",
      "scowcroft\n",
      "unrwa\n",
      "tegucigalpa\n",
      "rafah\n",
      "pilger\n",
      "bessarabia\n",
      "valenciennes\n",
      "méndez\n",
      "vukovar\n",
      "csps\n",
      "radovan\n",
      "michèle\n",
      "allawi\n",
      "kursk\n",
      "yalta\n",
      "núñez\n",
      "ceausescu\n",
      "interreg\n",
      "vélez\n",
      "vercelli\n",
      "kfor\n",
      "saakashvili\n",
      "jörg\n",
      "beazley\n",
      "ingushetia\n",
      "prizren\n",
      "isfahan\n",
      "lumumba\n",
      "hélène\n",
      "agusta\n",
      "unclos\n",
      "guterres\n",
      "jiabao\n",
      "kumaratunga\n",
      "bavarians\n",
      "elmar\n",
      "ratko\n",
      "eeurope\n",
      "beckenbauer\n",
      "tamayo\n",
      "genk\n",
      "sète\n",
      "rosati\n",
      "ncbs\n",
      "chandrika\n",
      "véronique\n",
      "romanies\n",
      "malpensa\n",
      "jaruzelski\n",
      "raynal\n",
      "unodc\n",
      "antonello\n",
      "brueghel\n",
      "caretta\n",
      "jaurès\n",
      "inés\n",
      "mossadeq\n",
      "schreyer\n",
      "lahoud\n",
      "cpmp\n",
      "nanterre\n",
      "daghestan\n",
      "sudeten\n",
      "lindh\n",
      "einaudi\n",
      "kouchner\n",
      "tindouf\n",
      "lyudmila\n",
      "fassa\n",
      "macra\n",
      "megawati\n",
      "izetbegovic\n",
      "bouteflika\n",
      "hristo\n",
      "ngawang\n",
      "rovaniemi\n",
      "fyrom\n",
      "michelis\n",
      "igad\n",
      "nlg\n",
      "ogoni\n",
      "heysel\n",
      "matera\n",
      "ravalomanana\n",
      "idriss\n",
      "andreotti\n",
      "bassam\n",
      "ekaterinburg\n",
      "gaborone\n",
      "tornio\n",
      "kostunica\n",
      "clarín\n",
      "wilfredo\n",
      "karamanlis\n",
      "mendieta\n",
      "atocha\n",
      "gbagbo\n",
      "euskadi\n",
      "rehn\n",
      "gaullists\n",
      "kabylie\n",
      "thüringen\n",
      "katyn\n",
      "ecevit\n"
     ]
    }
   ],
   "source": [
    "for i in src_lex:\n",
    "    if i not in words_src:\n",
    "        print(i)"
   ]
  },
  {
   "cell_type": "code",
   "execution_count": null,
   "metadata": {},
   "outputs": [],
   "source": []
  }
 ],
 "metadata": {
  "kernelspec": {
   "display_name": "Python 3",
   "language": "python",
   "name": "python3"
  },
  "language_info": {
   "codemirror_mode": {
    "name": "ipython",
    "version": 3
   },
   "file_extension": ".py",
   "mimetype": "text/x-python",
   "name": "python",
   "nbconvert_exporter": "python",
   "pygments_lexer": "ipython3",
   "version": "3.6.3"
  }
 },
 "nbformat": 4,
 "nbformat_minor": 2
}
