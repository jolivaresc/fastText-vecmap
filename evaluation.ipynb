{
 "cells": [
  {
   "cell_type": "code",
   "execution_count": 1,
   "metadata": {},
   "outputs": [
    {
     "name": "stderr",
     "output_type": "stream",
     "text": [
      "/home/olivares/anaconda3/lib/python3.6/site-packages/h5py/__init__.py:34: FutureWarning: Conversion of the second argument of issubdtype from `float` to `np.floating` is deprecated. In future, it will be treated as `np.float64 == np.dtype(float).type`.\n",
      "  from ._conv import register_converters as _register_converters\n"
     ]
    },
    {
     "name": "stdout",
     "output_type": "stream",
     "text": [
      "TensorFlow version: 1.7.0\n"
     ]
    }
   ],
   "source": [
    "import tensorflow as tf\n",
    "import numpy as np\n",
    "import utils\n",
    "\n",
    "from collections import Counter\n",
    "\n",
    "\n",
    "__author__ = \"Olivares Castillo José Luis\"\n",
    "\n",
    "#tf.enable_eager_execution()\n",
    "tf.logging.set_verbosity(tf.logging.INFO)\n",
    "\n",
    "print(\"TensorFlow version: {}\".format(tf.VERSION))\n",
    "#print(\"Eager execution: {}\".format(tf.executing_eagerly()))\n",
    "\n",
    "if tf.test.gpu_device_name():\n",
    "    print(\"GPU disponible\")"
   ]
  },
  {
   "cell_type": "markdown",
   "metadata": {},
   "source": [
    "# Cargar lexicones"
   ]
  },
  {
   "cell_type": "code",
   "execution_count": 26,
   "metadata": {},
   "outputs": [
    {
     "name": "stdout",
     "output_type": "stream",
     "text": [
      "3442 4549\n"
     ]
    }
   ],
   "source": [
    "src_lex, trg_lex = utils.get_lexicon(\"en-it.train\")\n",
    "print(len(set(src_lex)), len(set(trg_lex)))"
   ]
  },
  {
   "cell_type": "markdown",
   "metadata": {},
   "source": [
    "#### Ejecutar celda sólo cuando se utiliza el lexicon de pruebas."
   ]
  },
  {
   "cell_type": "code",
   "execution_count": 3,
   "metadata": {},
   "outputs": [],
   "source": [
    "src_lex = list(set(src_lex))"
   ]
  },
  {
   "cell_type": "markdown",
   "metadata": {},
   "source": [
    "# Obtener vectores de entrenamiento/prueba\n",
    "\n",
    "* Se cuentan las palabras en el lexicon con la función `Counter()`\n",
    "* Se abre el archivo de vectores.\n",
    "* Se obtienen los vectores de las palabras en el lexicon y se guardan en una matrix"
   ]
  },
  {
   "cell_type": "code",
   "execution_count": 29,
   "metadata": {},
   "outputs": [
    {
     "name": "stdout",
     "output_type": "stream",
     "text": [
      "(5000, 300)\n",
      "CPU times: user 43.1 s, sys: 2.36 s, total: 45.5 s\n",
      "Wall time: 48.5 s\n"
     ]
    }
   ],
   "source": [
    "%%time\n",
    "src_lex = Counter(src_lex)\n",
    "\n",
    "src_matrix = utils.open_file(\"en-wiki\")\n",
    "\n",
    "words_src, source_vec = utils.read(src_matrix,vocabulary=src_lex)\n",
    "\n",
    "print(source_vec.shape)"
   ]
  },
  {
   "cell_type": "markdown",
   "metadata": {},
   "source": [
    "### Se carga la matrix de vectores del lenguaje objetivo."
   ]
  },
  {
   "cell_type": "code",
   "execution_count": 45,
   "metadata": {},
   "outputs": [
    {
     "name": "stdout",
     "output_type": "stream",
     "text": [
      "(2000000, 300)\n",
      "CPU times: user 2min 17s, sys: 3.56 s, total: 2min 21s\n",
      "Wall time: 2min 53s\n"
     ]
    }
   ],
   "source": [
    "%%time\n",
    "trg_matrix = utils.open_file(\"it\")\n",
    "\n",
    "words_trg,target_vec = utils.read(trg_matrix)\n",
    "\n",
    "print(target_vec.shape)"
   ]
  },
  {
   "cell_type": "markdown",
   "metadata": {},
   "source": [
    "# Leer modelo desde archivo\n",
    "\n",
    "* Se reinicia el grafo cada que se lee un nuevo modelo.\n",
    "* Se inicia una sesión de `TensorFlow`.\n",
    "* Se lee el modelo y se carga el grafo."
   ]
  },
  {
   "cell_type": "code",
   "execution_count": 31,
   "metadata": {},
   "outputs": [
    {
     "name": "stdout",
     "output_type": "stream",
     "text": [
      "INFO:tensorflow:Restoring parameters from models/1/model.ckpt\n"
     ]
    }
   ],
   "source": [
    "tf.reset_default_graph()\n",
    "sess = tf.Session()\n",
    "path=\"models/1/\"\n",
    "saver = tf.train.import_meta_graph(path+\"model.ckpt.meta\")\n",
    "saver.restore(sess,tf.train.latest_checkpoint(path))"
   ]
  },
  {
   "cell_type": "markdown",
   "metadata": {},
   "source": [
    "# Obtener tensores de entrada\n",
    "* Se obtiene el grafo y se guardan en variables los tensores de entrada para alimentar al modelo."
   ]
  },
  {
   "cell_type": "code",
   "execution_count": 32,
   "metadata": {},
   "outputs": [],
   "source": [
    "graph = tf.get_default_graph()\n",
    "X = graph.get_tensor_by_name(\"input/input_es:0\")\n",
    "kprob = graph.get_tensor_by_name(\"dropout_prob:0\")"
   ]
  },
  {
   "cell_type": "code",
   "execution_count": 33,
   "metadata": {},
   "outputs": [],
   "source": [
    "#([n.name for n in graph.as_graph_def().node])"
   ]
  },
  {
   "cell_type": "markdown",
   "metadata": {},
   "source": [
    "# Se obtiene la salida del modelo\n",
    "* Se guarda en una variable la operación que se va a ejecutar.\n",
    "* Se indican las entradas del modelo en `feed_dict`.\n",
    "* Se ejecuta la operación y se obtiene guarda el resultado en `pred` que son los vectores transformados por el modelo."
   ]
  },
  {
   "cell_type": "code",
   "execution_count": 34,
   "metadata": {},
   "outputs": [
    {
     "name": "stdout",
     "output_type": "stream",
     "text": [
      "(5000, 300)\n"
     ]
    }
   ],
   "source": [
    "output_model = graph.get_tensor_by_name(\"xw_plus_b_1:0\")\n",
    "#output_model = graph.get_tensor_by_name(\"nah_predicted:0\")\n",
    "feed_dict = {X: source_vec, kprob: 1}\n",
    "pred = sess.run(output_model, feed_dict)\n",
    "print(pred.shape)"
   ]
  },
  {
   "cell_type": "code",
   "execution_count": 43,
   "metadata": {},
   "outputs": [
    {
     "data": {
      "text/plain": [
       "28.546037468132205"
      ]
     },
     "execution_count": 43,
     "metadata": {},
     "output_type": "execute_result"
    }
   ],
   "source": [
    "np.sum(np.abs(pred[0]-source_vec[0]))"
   ]
  },
  {
   "cell_type": "code",
   "execution_count": 46,
   "metadata": {},
   "outputs": [
    {
     "name": "stderr",
     "output_type": "stream",
     "text": [
      "UsageError: Line magic function `%memory` not found.\n"
     ]
    }
   ],
   "source": []
  }
 ],
 "metadata": {
  "kernelspec": {
   "display_name": "Python 3",
   "language": "python",
   "name": "python3"
  },
  "language_info": {
   "codemirror_mode": {
    "name": "ipython",
    "version": 3
   },
   "file_extension": ".py",
   "mimetype": "text/x-python",
   "name": "python",
   "nbconvert_exporter": "python",
   "pygments_lexer": "ipython3",
   "version": "3.6.3"
  }
 },
 "nbformat": 4,
 "nbformat_minor": 2
}
