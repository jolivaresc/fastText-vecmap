{
 "cells": [
  {
   "cell_type": "code",
   "execution_count": 1,
   "metadata": {},
   "outputs": [
    {
     "name": "stderr",
     "output_type": "stream",
     "text": [
      "Failed to load GPU Faiss: No module named 'faiss.swigfaiss_gpu'\n",
      "Faiss falling back to CPU-only.\n"
     ]
    }
   ],
   "source": [
    "import numpy as np\n",
    "np.random.seed(42)\n",
    "import faiss\n"
   ]
  },
  {
   "cell_type": "code",
   "execution_count": 2,
   "metadata": {},
   "outputs": [],
   "source": [
    "x = np.random.uniform(-1,10,[1500,300]).astype(np.float32)\n",
    "y = np.random.uniform(-1,10,[200000,300]).astype(np.float32)"
   ]
  },
  {
   "cell_type": "code",
   "execution_count": 3,
   "metadata": {},
   "outputs": [
    {
     "data": {
      "text/plain": [
       "dtype('float32')"
      ]
     },
     "execution_count": 3,
     "metadata": {},
     "output_type": "execute_result"
    }
   ],
   "source": [
    "x.dtype"
   ]
  },
  {
   "cell_type": "raw",
   "metadata": {},
   "source": [
    "%%timeit\n",
    "def get_top10_vectors(vector,matrix):\n",
    "    unsorted = list(enumerate(np.matmul(vector,matrix.T)/(np.linalg.norm(vector)*np.sqrt(np.einsum('ij,ij->i',matrix, matrix)))))\n",
    "    #print(unsorted[:2])\n",
    "    \n",
    "    unsorted = sorted(unsorted,key=lambda dist:dist[1],reverse=True)\n",
    "    return unsorted[:10]\n",
    "\n",
    "\n",
    "(get_top10_vectors(x[1],y))"
   ]
  },
  {
   "cell_type": "code",
   "execution_count": 4,
   "metadata": {},
   "outputs": [
    {
     "name": "stdout",
     "output_type": "stream",
     "text": [
      "[ 58744 161973  34627  28188  72988 191155 188798  72243 195993 140433]\n",
      "CPU times: user 165 ms, sys: 266 ms, total: 431 ms\n",
      "Wall time: 269 ms\n"
     ]
    }
   ],
   "source": [
    "%%time\n",
    "def get_top10_vectors(vector,matrix):\n",
    "    unsorted = ((np.matmul(vector,matrix.T)/(np.linalg.norm(vector)*np.sqrt(np.einsum('ij,ij->i',matrix, matrix)))))\n",
    "    #print(unsorted[:2])\n",
    "    unsorted = np.argsort(unsorted,kind=\"quicksort\")\n",
    "    distances = unsorted[::-1][:10]\n",
    "    del unsorted\n",
    "    return distances\n",
    "\n",
    "tmp= get_top10_vectors(x[0],y)\n",
    "print(tmp)"
   ]
  },
  {
   "cell_type": "code",
   "execution_count": 5,
   "metadata": {},
   "outputs": [
    {
     "name": "stdout",
     "output_type": "stream",
     "text": [
      "True\n"
     ]
    }
   ],
   "source": [
    "index = faiss.IndexFlatL2(x.shape[1])\n",
    "print(index.is_trained)\n",
    "index.add(y) # vectors db\n",
    "k = 10                    # we want to see 4 nearest neighbors"
   ]
  },
  {
   "cell_type": "code",
   "execution_count": 6,
   "metadata": {},
   "outputs": [
    {
     "name": "stdout",
     "output_type": "stream",
     "text": [
      "CPU times: user 5 µs, sys: 1e+03 ns, total: 6 µs\n",
      "Wall time: 11.4 µs\n"
     ]
    }
   ],
   "source": [
    "%time\n",
    "D, I = index.search(x, k) # sanity check"
   ]
  },
  {
   "cell_type": "code",
   "execution_count": 7,
   "metadata": {},
   "outputs": [
    {
     "data": {
      "text/plain": [
       "array([ 58744,  34627, 191155, 178936, 168397, 176887, 185882, 123922,\n",
       "       162680, 105041])"
      ]
     },
     "execution_count": 7,
     "metadata": {},
     "output_type": "execute_result"
    }
   ],
   "source": [
    "I[0]"
   ]
  },
  {
   "cell_type": "code",
   "execution_count": 8,
   "metadata": {},
   "outputs": [],
   "source": [
    "import nmslib"
   ]
  },
  {
   "cell_type": "code",
   "execution_count": 10,
   "metadata": {},
   "outputs": [
    {
     "name": "stdout",
     "output_type": "stream",
     "text": [
      "CPU times: user 32min 8s, sys: 2.84 s, total: 32min 11s\n",
      "Wall time: 8min 41s\n"
     ]
    }
   ],
   "source": [
    "%%time\n",
    "# initialize a new index, using a HNSW index on Cosine Similarity\n",
    "#{'angular': 'cosinesimil', 'euclidean': 'l2'}[metric]\n",
    "index = nmslib.init(method='hnsw', space='l2')\n",
    "index.addDataPointBatch(y)\n",
    "index.createIndex({'post': 2}, print_progress=True)"
   ]
  },
  {
   "cell_type": "code",
   "execution_count": 11,
   "metadata": {},
   "outputs": [
    {
     "data": {
      "text/plain": [
       "array([ 58744, 161973,  34627,  28188,  72988, 191155, 188798,  72243,\n",
       "       195993, 140433])"
      ]
     },
     "execution_count": 11,
     "metadata": {},
     "output_type": "execute_result"
    }
   ],
   "source": [
    "tmp"
   ]
  },
  {
   "cell_type": "code",
   "execution_count": 12,
   "metadata": {},
   "outputs": [],
   "source": [
    "# query for the nearest neighbours of the first datapoint\n",
    "ids, distances = index.knnQuery(x[0], k=10)"
   ]
  },
  {
   "cell_type": "code",
   "execution_count": 13,
   "metadata": {},
   "outputs": [
    {
     "data": {
      "text/plain": [
       "array([121020,  66934,  70276, 125972,   4032,  28699, 156761,  85153,\n",
       "         4234, 145234], dtype=int32)"
      ]
     },
     "execution_count": 13,
     "metadata": {},
     "output_type": "execute_result"
    }
   ],
   "source": [
    "ids"
   ]
  }
 ],
 "metadata": {
  "kernelspec": {
   "display_name": "Python 3",
   "language": "python",
   "name": "python3"
  },
  "language_info": {
   "codemirror_mode": {
    "name": "ipython",
    "version": 3
   },
   "file_extension": ".py",
   "mimetype": "text/x-python",
   "name": "python",
   "nbconvert_exporter": "python",
   "pygments_lexer": "ipython3",
   "version": "3.6.3"
  }
 },
 "nbformat": 4,
 "nbformat_minor": 2
}
